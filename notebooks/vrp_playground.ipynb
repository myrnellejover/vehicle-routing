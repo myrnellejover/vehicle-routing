{
 "cells": [
  {
   "cell_type": "code",
   "execution_count": null,
   "metadata": {},
   "outputs": [],
   "source": [
    "import sys\n",
    "sys.path.insert(0, \"..\")  # or sys.path.append(\"../\")\n",
    "\n",
    "from dotenv import dotenv_values\n",
    "\n",
    "# Data\n",
    "import numpy as np\n",
    "import pandas as pd\n",
    "import googlemaps\n",
    "import webbrowser\n",
    "import folium\n",
    "\n",
    "# Solvers\n",
    "from ortools.constraint_solver import routing_enums_pb2\n",
    "from ortools.constraint_solver import pywrapcp\n",
    "\n",
    "# Classes\n",
    "from typing import Optional, Union, List, Dict, Any\n",
    "\n",
    "# Local modules\n",
    "from scripts.config import BASE_CONFIG, DATA_PATH"
   ]
  },
  {
   "cell_type": "code",
   "execution_count": null,
   "metadata": {},
   "outputs": [],
   "source": [
    "# Paths\n",
    "CONFIG_FILE: str = BASE_CONFIG.project_config\n",
    "DATA_DEPOTS: str = DATA_PATH.depots\n",
    "DATA_STORES: str = DATA_PATH.stores\n",
    "\n",
    "# Global vars\n",
    "GOOGLE_MAPS_API: str = dotenv_values(CONFIG_FILE).get(\"GOOGLE_MAPS_API_KEY\")\n"
   ]
  },
  {
   "cell_type": "markdown",
   "metadata": {},
   "source": [
    "### Functions"
   ]
  },
  {
   "cell_type": "code",
   "execution_count": null,
   "metadata": {},
   "outputs": [],
   "source": [
    "def load_csv(file_path: str) -> pd.DataFrame:\n",
    "    \"\"\"Load a CSV file into a pandas DataFrame.\"\"\"\n",
    "    return pd.read_csv(file_path)"
   ]
  },
  {
   "cell_type": "code",
   "execution_count": null,
   "metadata": {},
   "outputs": [],
   "source": [
    "def get_distance_matrix(locations: pd.DataFrame) -> np.ndarray:\n",
    "    \"\"\"Get distance matrix from Google Maps API with chunk handling.\"\"\"\n",
    "    gmaps = googlemaps.Client(key=GOOGLE_MAPS_API)\n",
    "    coords = locations[['latitude', 'longitude']].values.tolist()\n",
    "    num_locations = len(coords)\n",
    "    \n",
    "    distance_matrix = np.zeros((num_locations, num_locations))\n",
    "    \n",
    "    # Split into chunks\n",
    "    chunk_size = 10  # Adjust chunk size as needed\n",
    "    for i in range(0, num_locations, chunk_size):\n",
    "        origins = coords[i:i + chunk_size]\n",
    "        for j in range(0, num_locations, chunk_size):\n",
    "            destinations = coords[j:j + chunk_size]\n",
    "            matrix = gmaps.distance_matrix(origins=origins, destinations=destinations, mode='driving', units='metric')\n",
    "            \n",
    "            for m in range(len(origins)):\n",
    "                for n in range(len(destinations)):\n",
    "                    distance_matrix[i + m, j + n] = matrix['rows'][m]['elements'][n]['distance']['value'] / 1000  # Convert meters to kilometres\n",
    "\n",
    "    return distance_matrix"
   ]
  },
  {
   "cell_type": "code",
   "execution_count": null,
   "metadata": {},
   "outputs": [],
   "source": [
    "def get_address_from_lat_lng(latitude: float, longitude: float, gmaps: googlemaps.Client) -> str:\n",
    "    \"\"\"Get address from latitude and longitude using Google Maps API.\"\"\"\n",
    "    reverse_geocode_result = gmaps.reverse_geocode((latitude, longitude))\n",
    "    if reverse_geocode_result:\n",
    "        return reverse_geocode_result[0]['formatted_address']\n",
    "    return 'Unknown Address'"
   ]
  },
  {
   "cell_type": "code",
   "execution_count": null,
   "metadata": {},
   "outputs": [],
   "source": [
    "def create_data_model(df_depots: pd.DataFrame, df_stores: pd.DataFrame) -> Dict:\n",
    "    \"\"\"Create data model for the VRP.\"\"\"\n",
    "    data = {}\n",
    "    locations = pd.concat([df_depots, df_stores], ignore_index=True)\n",
    "    data['distance_matrix'] = get_distance_matrix(locations)\n",
    "    data['num_vehicles'] = len(df_depots)\n",
    "    data['depot'] = list(range(len(df_depots)))\n",
    "    data['num_locations'] = len(locations)\n",
    "    return data"
   ]
  },
  {
   "cell_type": "code",
   "execution_count": null,
   "metadata": {},
   "outputs": [],
   "source": [
    "def print_solution(manager: pywrapcp.RoutingIndexManager, routing: pywrapcp.RoutingModel, solution: pywrapcp.Assignment, locations: pd.DataFrame, gmaps: googlemaps.Client) -> List[List[int]]:\n",
    "    \"\"\"Print the solution with street names.\"\"\"\n",
    "    routes = []\n",
    "    for vehicle_id in range(data['num_vehicles']):\n",
    "        index = routing.Start(vehicle_id)\n",
    "        route = []\n",
    "        while not routing.IsEnd(index):\n",
    "            route.append(manager.IndexToNode(index))\n",
    "            index = solution.Value(routing.NextVar(index))\n",
    "        route.append(manager.IndexToNode(index))\n",
    "        routes.append(route)\n",
    "\n",
    "    print(\"Routes:\")\n",
    "    for route in routes:\n",
    "        route_addresses = [get_address_from_lat_lng(\n",
    "            locations.iloc[location]['latitude'], locations.iloc[location]['longitude'], gmaps\n",
    "        ) for location in route]\n",
    "        print(\" -> \".join(route_addresses))\n",
    "\n",
    "    return routes"
   ]
  },
  {
   "cell_type": "code",
   "execution_count": null,
   "metadata": {},
   "outputs": [],
   "source": [
    "def visualise_solution(routes: List[List[int]], locations: pd.DataFrame):\n",
    "    \"\"\"Visualise the solution using Folium.\"\"\"\n",
    "    # Initialise the map centred at the first depot\n",
    "    depot_location = locations.iloc[data['depot'][0]]\n",
    "    m = folium.Map(location=[depot_location['latitude'], depot_location['longitude']], zoom_start=12)\n",
    "\n",
    "    # Plot depot locations\n",
    "    for depot in df_depots.itertuples():\n",
    "        folium.Marker(\n",
    "            location=[depot.latitude, depot.longitude],\n",
    "            popup=f'Depot: {depot.name}',\n",
    "            icon=folium.Icon(color='blue')\n",
    "        ).add_to(m)\n",
    "\n",
    "    # Plot store locations\n",
    "    for store in df_stores.itertuples():\n",
    "        folium.Marker(\n",
    "            location=[store.latitude, store.longitude],\n",
    "            popup=f'Store: {store.name}',\n",
    "            icon=folium.Icon(color='red')\n",
    "        ).add_to(m)\n",
    "\n",
    "    # Plot routes\n",
    "    for route in routes:\n",
    "        route_coords = locations.iloc[route][['latitude', 'longitude']].values.tolist()\n",
    "        folium.PolyLine(route_coords, color='green', weight=2.5, opacity=0.8).add_to(m)\n",
    "\n",
    "    # Save map to HTML file\n",
    "    m.save('vrp_solution_map.html')"
   ]
  },
  {
   "cell_type": "code",
   "execution_count": null,
   "metadata": {},
   "outputs": [],
   "source": [
    "def solve_vrp(data: Dict, locations: pd.DataFrame, visualise: bool = True):\n",
    "    \"\"\"Solve the Vehicle Routing Problem.\"\"\"\n",
    "    gmaps = googlemaps.Client(key=GOOGLE_MAPS_API)\n",
    "    manager = pywrapcp.RoutingIndexManager(data['num_locations'], data['num_vehicles'], data['depot'][0])\n",
    "    routing = pywrapcp.RoutingModel(manager)\n",
    "\n",
    "    def distance_callback(from_index: int, to_index: int) -> int:\n",
    "        \"\"\"Returns the distance between the two nodes.\"\"\"\n",
    "        from_node = manager.IndexToNode(from_index)\n",
    "        to_node = manager.IndexToNode(to_index)\n",
    "        return int(data['distance_matrix'][from_node][to_node] * 1000)  # Convert km to meters\n",
    "\n",
    "    transit_callback_index = routing.RegisterTransitCallback(distance_callback)\n",
    "    routing.SetArcCostEvaluatorOfAllVehicles(transit_callback_index)\n",
    "\n",
    "    # Set parameters.\n",
    "    search_parameters = pywrapcp.DefaultRoutingSearchParameters()\n",
    "    search_parameters.first_solution_strategy = routing_enums_pb2.FirstSolutionStrategy.PATH_CHEAPEST_ARC\n",
    "\n",
    "    # Solve the problem.\n",
    "    solution = routing.SolveWithParameters(search_parameters)\n",
    "    if solution:\n",
    "        routes = print_solution(manager, routing, solution, locations, gmaps)\n",
    "        if visualise:\n",
    "            visualise_solution(routes, locations)\n",
    "    else:\n",
    "        print('No solution found!')"
   ]
  },
  {
   "cell_type": "markdown",
   "metadata": {},
   "source": [
    "### Workflow"
   ]
  },
  {
   "cell_type": "code",
   "execution_count": null,
   "metadata": {},
   "outputs": [],
   "source": [
    "# Load depot and store data\n",
    "df_depots = load_csv(DATA_DEPOTS)\n",
    "df_stores = load_csv(DATA_STORES)"
   ]
  },
  {
   "cell_type": "code",
   "execution_count": null,
   "metadata": {},
   "outputs": [],
   "source": [
    "df_depots"
   ]
  },
  {
   "cell_type": "code",
   "execution_count": null,
   "metadata": {},
   "outputs": [],
   "source": [
    "df_stores"
   ]
  },
  {
   "cell_type": "code",
   "execution_count": null,
   "metadata": {},
   "outputs": [],
   "source": [
    "# Create data model and solve VRP\n",
    "data = create_data_model(df_depots, df_stores)\n",
    "solve_vrp(data, pd.concat([df_depots, df_stores], ignore_index=True))"
   ]
  },
  {
   "cell_type": "code",
   "execution_count": null,
   "metadata": {},
   "outputs": [],
   "source": []
  }
 ],
 "metadata": {
  "kernelspec": {
   "display_name": "venv_vrp_py311",
   "language": "python",
   "name": "python3"
  },
  "language_info": {
   "codemirror_mode": {
    "name": "ipython",
    "version": 3
   },
   "file_extension": ".py",
   "mimetype": "text/x-python",
   "name": "python",
   "nbconvert_exporter": "python",
   "pygments_lexer": "ipython3",
   "version": "3.11.6"
  }
 },
 "nbformat": 4,
 "nbformat_minor": 2
}
